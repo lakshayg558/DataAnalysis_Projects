{
 "cells": [
  {
   "cell_type": "markdown",
   "metadata": {
    "id": "CcUT6Fon_qRE"
   },
   "source": [
    "### Required Assignment 5.1: Will the Customer Accept the Coupon?\n",
    "\n",
    "**Context**\n",
    "\n",
    "Imagine driving through town and a coupon is delivered to your cell phone for a restaurant near where you are driving. Would you accept that coupon and take a short detour to the restaurant? Would you accept the coupon but use it on a subsequent trip? Would you ignore the coupon entirely? What if the coupon was for a bar instead of a restaurant? What about a coffee house? Would you accept a bar coupon with a minor passenger in the car? What about if it was just you and your partner in the car? Would weather impact the rate of acceptance? What about the time of day?\n",
    "\n",
    "Obviously, proximity to the business is a factor on whether the coupon is delivered to the driver or not, but what are the factors that determine whether a driver accepts the coupon once it is delivered to them? How would you determine whether a driver is likely to accept a coupon?\n",
    "\n",
    "**Overview**\n",
    "\n",
    "The goal of this project is to use what you know about visualizations and probability distributions to distinguish between customers who accepted a driving coupon versus those that did not.\n",
    "\n",
    "**Data**\n",
    "\n",
    "This data comes to us from the UCI Machine Learning repository and was collected via a survey on Amazon Mechanical Turk. The survey describes different driving scenarios including the destination, current time, weather, passenger, etc., and then ask the person whether he will accept the coupon if he is the driver. Answers that the user will drive there ‘right away’ or ‘later before the coupon expires’ are labeled as ‘Y = 1’ and answers ‘no, I do not want the coupon’ are labeled as ‘Y = 0’.  There are five different types of coupons -- less expensive restaurants (under \\$20), coffee houses, carry out & take away, bar, and more expensive restaurants (\\$20 - $50)."
   ]
  },
  {
   "cell_type": "markdown",
   "metadata": {
    "id": "1wORvMBJ_qRF"
   },
   "source": [
    "**Deliverables**\n",
    "\n",
    "Your final product should be a brief report that highlights the differences between customers who did and did not accept the coupons.  To explore the data you will utilize your knowledge of plotting, statistical summaries, and visualization using Python. You will publish your findings in a public facing github repository as your first portfolio piece.\n",
    "\n",
    "\n",
    "\n"
   ]
  },
  {
   "cell_type": "markdown",
   "metadata": {
    "id": "pG6_Ym6q_qRG"
   },
   "source": [
    "### Data Description\n",
    "Keep in mind that these values mentioned below are average values.\n",
    "\n",
    "The attributes of this data set include:\n",
    "1. User attributes\n",
    "    -  Gender: male, female\n",
    "    -  Age: below 21, 21 to 25, 26 to 30, etc.\n",
    "    -  Marital Status: single, married partner, unmarried partner, or widowed\n",
    "    -  Number of children: 0, 1, or more than 1\n",
    "    -  Education: high school, bachelors degree, associates degree, or graduate degree\n",
    "    -  Occupation: architecture & engineering, business & financial, etc.\n",
    "    -  Annual income: less than \\\\$12500, \\\\$12500 - \\\\$24999, \\\\$25000 - \\\\$37499, etc.\n",
    "    -  Number of times that he/she goes to a bar: 0, less than 1, 1 to 3, 4 to 8 or greater than 8\n",
    "    -  Number of times that he/she buys takeaway food: 0, less than 1, 1 to 3, 4 to 8 or greater\n",
    "    than 8\n",
    "    -  Number of times that he/she goes to a coffee house: 0, less than 1, 1 to 3, 4 to 8 or\n",
    "    greater than 8\n",
    "    -  Number of times that he/she eats at a restaurant with average expense less than \\\\$20 per\n",
    "    person: 0, less than 1, 1 to 3, 4 to 8 or greater than 8\n",
    "    -  Number of times that he/she goes to a bar: 0, less than 1, 1 to 3, 4 to 8 or greater than 8\n",
    "    \n",
    "\n",
    "2. Contextual attributes\n",
    "    - Driving destination: home, work, or no urgent destination\n",
    "    - Location of user, coupon and destination: we provide a map to show the geographical\n",
    "    location of the user, destination, and the venue, and we mark the distance between each\n",
    "    two places with time of driving. The user can see whether the venue is in the same\n",
    "    direction as the destination.\n",
    "    - Weather: sunny, rainy, or snowy\n",
    "    - Temperature: 30F, 55F, or 80F\n",
    "    - Time: 10AM, 2PM, or 6PM\n",
    "    - Passenger: alone, partner, kid(s), or friend(s)\n",
    "\n",
    "\n",
    "3. Coupon attributes\n",
    "    - time before it expires: 2 hours or one day"
   ]
  },
  {
   "cell_type": "code",
   "execution_count": 7,
   "metadata": {
    "id": "dzNoP3o__qRG"
   },
   "outputs": [
    {
     "ename": "ModuleNotFoundError",
     "evalue": "No module named 'matplotlib'",
     "output_type": "error",
     "traceback": [
      "\u001b[1;31m---------------------------------------------------------------------------\u001b[0m",
      "\u001b[1;31mModuleNotFoundError\u001b[0m                       Traceback (most recent call last)",
      "Cell \u001b[1;32mIn[7], line 1\u001b[0m\n\u001b[1;32m----> 1\u001b[0m \u001b[38;5;28;01mimport\u001b[39;00m \u001b[38;5;21;01mmatplotlib\u001b[39;00m\u001b[38;5;21;01m.\u001b[39;00m\u001b[38;5;21;01mpyplot\u001b[39;00m \u001b[38;5;28;01mas\u001b[39;00m \u001b[38;5;21;01mplt\u001b[39;00m\n\u001b[0;32m      2\u001b[0m \u001b[38;5;28;01mimport\u001b[39;00m \u001b[38;5;21;01mseaborn\u001b[39;00m \u001b[38;5;28;01mas\u001b[39;00m \u001b[38;5;21;01msns\u001b[39;00m\n\u001b[0;32m      3\u001b[0m \u001b[38;5;28;01mimport\u001b[39;00m \u001b[38;5;21;01mpandas\u001b[39;00m \u001b[38;5;28;01mas\u001b[39;00m \u001b[38;5;21;01mpd\u001b[39;00m\n",
      "\u001b[1;31mModuleNotFoundError\u001b[0m: No module named 'matplotlib'"
     ]
    }
   ],
   "source": [
    "import matplotlib.pyplot as plt\n",
    "import seaborn as sns\n",
    "import pandas as pd\n",
    "import numpy as np"
   ]
  },
  {
   "cell_type": "markdown",
   "metadata": {
    "id": "Ct8pI1uE_qRG"
   },
   "source": [
    "### Problems\n",
    "\n",
    "Use the prompts below to get started with your data analysis.  \n",
    "\n",
    "1. Read in the `coupons.csv` file.\n",
    "\n",
    "\n"
   ]
  },
  {
   "cell_type": "code",
   "execution_count": null,
   "metadata": {
    "id": "X0vbffYg_qRH"
   },
   "outputs": [],
   "source": [
    "data = pd.read_csv('data/coupons.csv')"
   ]
  },
  {
   "cell_type": "code",
   "execution_count": null,
   "metadata": {
    "id": "TXofQ_DF_qRH",
    "outputId": "2fc96a2c-1112-4b54-f24f-dbb9bc88abfb"
   },
   "outputs": [
    {
     "data": {
      "text/html": [
       "<div>\n",
       "<style scoped>\n",
       "    .dataframe tbody tr th:only-of-type {\n",
       "        vertical-align: middle;\n",
       "    }\n",
       "\n",
       "    .dataframe tbody tr th {\n",
       "        vertical-align: top;\n",
       "    }\n",
       "\n",
       "    .dataframe thead th {\n",
       "        text-align: right;\n",
       "    }\n",
       "</style>\n",
       "<table border=\"1\" class=\"dataframe\">\n",
       "  <thead>\n",
       "    <tr style=\"text-align: right;\">\n",
       "      <th></th>\n",
       "      <th>destination</th>\n",
       "      <th>passanger</th>\n",
       "      <th>weather</th>\n",
       "      <th>temperature</th>\n",
       "      <th>time</th>\n",
       "      <th>coupon</th>\n",
       "      <th>expiration</th>\n",
       "      <th>gender</th>\n",
       "      <th>age</th>\n",
       "      <th>maritalStatus</th>\n",
       "      <th>...</th>\n",
       "      <th>CoffeeHouse</th>\n",
       "      <th>CarryAway</th>\n",
       "      <th>RestaurantLessThan20</th>\n",
       "      <th>Restaurant20To50</th>\n",
       "      <th>toCoupon_GEQ5min</th>\n",
       "      <th>toCoupon_GEQ15min</th>\n",
       "      <th>toCoupon_GEQ25min</th>\n",
       "      <th>direction_same</th>\n",
       "      <th>direction_opp</th>\n",
       "      <th>Y</th>\n",
       "    </tr>\n",
       "  </thead>\n",
       "  <tbody>\n",
       "    <tr>\n",
       "      <th>0</th>\n",
       "      <td>No Urgent Place</td>\n",
       "      <td>Alone</td>\n",
       "      <td>Sunny</td>\n",
       "      <td>55</td>\n",
       "      <td>2PM</td>\n",
       "      <td>Restaurant(&lt;20)</td>\n",
       "      <td>1d</td>\n",
       "      <td>Female</td>\n",
       "      <td>21</td>\n",
       "      <td>Unmarried partner</td>\n",
       "      <td>...</td>\n",
       "      <td>never</td>\n",
       "      <td>NaN</td>\n",
       "      <td>4~8</td>\n",
       "      <td>1~3</td>\n",
       "      <td>1</td>\n",
       "      <td>0</td>\n",
       "      <td>0</td>\n",
       "      <td>0</td>\n",
       "      <td>1</td>\n",
       "      <td>1</td>\n",
       "    </tr>\n",
       "    <tr>\n",
       "      <th>1</th>\n",
       "      <td>No Urgent Place</td>\n",
       "      <td>Friend(s)</td>\n",
       "      <td>Sunny</td>\n",
       "      <td>80</td>\n",
       "      <td>10AM</td>\n",
       "      <td>Coffee House</td>\n",
       "      <td>2h</td>\n",
       "      <td>Female</td>\n",
       "      <td>21</td>\n",
       "      <td>Unmarried partner</td>\n",
       "      <td>...</td>\n",
       "      <td>never</td>\n",
       "      <td>NaN</td>\n",
       "      <td>4~8</td>\n",
       "      <td>1~3</td>\n",
       "      <td>1</td>\n",
       "      <td>0</td>\n",
       "      <td>0</td>\n",
       "      <td>0</td>\n",
       "      <td>1</td>\n",
       "      <td>0</td>\n",
       "    </tr>\n",
       "    <tr>\n",
       "      <th>2</th>\n",
       "      <td>No Urgent Place</td>\n",
       "      <td>Friend(s)</td>\n",
       "      <td>Sunny</td>\n",
       "      <td>80</td>\n",
       "      <td>10AM</td>\n",
       "      <td>Carry out &amp; Take away</td>\n",
       "      <td>2h</td>\n",
       "      <td>Female</td>\n",
       "      <td>21</td>\n",
       "      <td>Unmarried partner</td>\n",
       "      <td>...</td>\n",
       "      <td>never</td>\n",
       "      <td>NaN</td>\n",
       "      <td>4~8</td>\n",
       "      <td>1~3</td>\n",
       "      <td>1</td>\n",
       "      <td>1</td>\n",
       "      <td>0</td>\n",
       "      <td>0</td>\n",
       "      <td>1</td>\n",
       "      <td>1</td>\n",
       "    </tr>\n",
       "    <tr>\n",
       "      <th>3</th>\n",
       "      <td>No Urgent Place</td>\n",
       "      <td>Friend(s)</td>\n",
       "      <td>Sunny</td>\n",
       "      <td>80</td>\n",
       "      <td>2PM</td>\n",
       "      <td>Coffee House</td>\n",
       "      <td>2h</td>\n",
       "      <td>Female</td>\n",
       "      <td>21</td>\n",
       "      <td>Unmarried partner</td>\n",
       "      <td>...</td>\n",
       "      <td>never</td>\n",
       "      <td>NaN</td>\n",
       "      <td>4~8</td>\n",
       "      <td>1~3</td>\n",
       "      <td>1</td>\n",
       "      <td>1</td>\n",
       "      <td>0</td>\n",
       "      <td>0</td>\n",
       "      <td>1</td>\n",
       "      <td>0</td>\n",
       "    </tr>\n",
       "    <tr>\n",
       "      <th>4</th>\n",
       "      <td>No Urgent Place</td>\n",
       "      <td>Friend(s)</td>\n",
       "      <td>Sunny</td>\n",
       "      <td>80</td>\n",
       "      <td>2PM</td>\n",
       "      <td>Coffee House</td>\n",
       "      <td>1d</td>\n",
       "      <td>Female</td>\n",
       "      <td>21</td>\n",
       "      <td>Unmarried partner</td>\n",
       "      <td>...</td>\n",
       "      <td>never</td>\n",
       "      <td>NaN</td>\n",
       "      <td>4~8</td>\n",
       "      <td>1~3</td>\n",
       "      <td>1</td>\n",
       "      <td>1</td>\n",
       "      <td>0</td>\n",
       "      <td>0</td>\n",
       "      <td>1</td>\n",
       "      <td>0</td>\n",
       "    </tr>\n",
       "  </tbody>\n",
       "</table>\n",
       "<p>5 rows × 26 columns</p>\n",
       "</div>"
      ],
      "text/plain": [
       "       destination  passanger weather  temperature  time  \\\n",
       "0  No Urgent Place      Alone   Sunny           55   2PM   \n",
       "1  No Urgent Place  Friend(s)   Sunny           80  10AM   \n",
       "2  No Urgent Place  Friend(s)   Sunny           80  10AM   \n",
       "3  No Urgent Place  Friend(s)   Sunny           80   2PM   \n",
       "4  No Urgent Place  Friend(s)   Sunny           80   2PM   \n",
       "\n",
       "                  coupon expiration  gender age      maritalStatus  ...  \\\n",
       "0        Restaurant(<20)         1d  Female  21  Unmarried partner  ...   \n",
       "1           Coffee House         2h  Female  21  Unmarried partner  ...   \n",
       "2  Carry out & Take away         2h  Female  21  Unmarried partner  ...   \n",
       "3           Coffee House         2h  Female  21  Unmarried partner  ...   \n",
       "4           Coffee House         1d  Female  21  Unmarried partner  ...   \n",
       "\n",
       "   CoffeeHouse CarryAway RestaurantLessThan20 Restaurant20To50  \\\n",
       "0        never       NaN                  4~8              1~3   \n",
       "1        never       NaN                  4~8              1~3   \n",
       "2        never       NaN                  4~8              1~3   \n",
       "3        never       NaN                  4~8              1~3   \n",
       "4        never       NaN                  4~8              1~3   \n",
       "\n",
       "  toCoupon_GEQ5min toCoupon_GEQ15min toCoupon_GEQ25min direction_same  \\\n",
       "0                1                 0                 0              0   \n",
       "1                1                 0                 0              0   \n",
       "2                1                 1                 0              0   \n",
       "3                1                 1                 0              0   \n",
       "4                1                 1                 0              0   \n",
       "\n",
       "  direction_opp  Y  \n",
       "0             1  1  \n",
       "1             1  0  \n",
       "2             1  1  \n",
       "3             1  0  \n",
       "4             1  0  \n",
       "\n",
       "[5 rows x 26 columns]"
      ]
     },
     "execution_count": 5,
     "metadata": {},
     "output_type": "execute_result"
    }
   ],
   "source": [
    "data.head()"
   ]
  },
  {
   "cell_type": "markdown",
   "metadata": {
    "id": "GcDs78ZH_qRH"
   },
   "source": [
    "2. Investigate the dataset for missing or problematic data."
   ]
  },
  {
   "cell_type": "code",
   "execution_count": null,
   "metadata": {
    "id": "6CwL6oWj_qRH"
   },
   "outputs": [],
   "source": [
    "data.isnull().sum() #This provides the "
   ]
  },
  {
   "cell_type": "markdown",
   "metadata": {
    "id": "bSdVSpYB_qRH"
   },
   "source": [
    "3. Decide what to do about your missing data -- drop, replace, other..."
   ]
  },
  {
   "cell_type": "code",
   "execution_count": null,
   "metadata": {
    "id": "tyvoAC5F_qRI"
   },
   "outputs": [],
   "source": [
    "data_cleaned = data.drop(columns=['car']) \n",
    "\n",
    "data_updated = data_cleaned.fillna('Unknown').reset_index()"
   ]
  },
  {
   "cell_type": "markdown",
   "metadata": {
    "id": "YE6oJbXd_qRI"
   },
   "source": [
    "4. What proportion of the total observations chose to accept the coupon?\n",
    "\n"
   ]
  },
  {
   "cell_type": "code",
   "execution_count": 1,
   "metadata": {
    "id": "86GGqBTv_qRI"
   },
   "outputs": [
    {
     "ename": "NameError",
     "evalue": "name 'data_updated' is not defined",
     "output_type": "error",
     "traceback": [
      "\u001b[1;31m---------------------------------------------------------------------------\u001b[0m",
      "\u001b[1;31mNameError\u001b[0m                                 Traceback (most recent call last)",
      "Cell \u001b[1;32mIn[1], line 1\u001b[0m\n\u001b[1;32m----> 1\u001b[0m total_observations \u001b[38;5;241m=\u001b[39m \u001b[38;5;28mlen\u001b[39m(\u001b[43mdata_updated\u001b[49m) \u001b[38;5;66;03m#Total Size of the dataframe\u001b[39;00m\n\u001b[0;32m      2\u001b[0m coupon_accepted \u001b[38;5;241m=\u001b[39m data_updated[\u001b[38;5;124m'\u001b[39m\u001b[38;5;124mY\u001b[39m\u001b[38;5;124m'\u001b[39m]\u001b[38;5;241m.\u001b[39msum()  \u001b[38;5;66;03m#Total count of enteries where Y= 1\u001b[39;00m\n\u001b[0;32m      3\u001b[0m proportion_accepted \u001b[38;5;241m=\u001b[39m (coupon_accepted \u001b[38;5;241m/\u001b[39m total_observations)\u001b[38;5;241m*\u001b[39m\u001b[38;5;241m100\u001b[39m \u001b[38;5;66;03m#Percentage of propotion accepted\u001b[39;00m\n",
      "\u001b[1;31mNameError\u001b[0m: name 'data_updated' is not defined"
     ]
    }
   ],
   "source": [
    "\n",
    "total_observations = len(data_updated) #Total Size of the dataframe\n",
    "coupon_accepted = data_updated['Y'].sum()  #Total count of enteries where Y= 1\n",
    "proportion_accepted = (coupon_accepted / total_observations)*100 #Percentage of propotion accepted"
   ]
  },
  {
   "cell_type": "markdown",
   "metadata": {
    "id": "vflz0DoE_qRI"
   },
   "source": [
    "5. Use a bar plot to visualize the `coupon` column."
   ]
  },
  {
   "cell_type": "code",
   "execution_count": null,
   "metadata": {
    "id": "dHFh3E45_qRI"
   },
   "outputs": [],
   "source": [
    "coupon_counts = data_updated['coupon'].value_counts()\n",
    "\n",
    "plt.figure(figsize=(10, 6))\n",
    "coupon_counts.plot(kind='bar')\n",
    "plt.title('Distribution of Coupons', fontsize=16)\n",
    "plt.xlabel('Coupon Type', fontsize=14)\n",
    "plt.ylabel('Coupon Count', fontsize=14)\n",
    "plt.xticks(rotation=45, ha='right')\n",
    "plt.tight_layout()\n",
    "plt.show()"
   ]
  },
  {
   "cell_type": "markdown",
   "metadata": {
    "id": "Qw4lCyx2_qRI"
   },
   "source": [
    "6. Use a histogram to visualize the temperature column."
   ]
  },
  {
   "cell_type": "code",
   "execution_count": null,
   "metadata": {
    "id": "Yg9Anv71_qRI"
   },
   "outputs": [],
   "source": [
    "plt.figure(figsize=(10, 6))\n",
    "plt.hist(data_updated['temperature'], bins=20, edgecolor='black')\n",
    "plt.title('Histogram of Temperature', fontsize=16)\n",
    "plt.xlabel('Temperature', fontsize=14)\n",
    "plt.ylabel('Frequency', fontsize=14)\n",
    "plt.tight_layout()\n",
    "plt.show()"
   ]
  },
  {
   "cell_type": "code",
   "execution_count": null,
   "metadata": {
    "id": "zLtOaJQk_qRI"
   },
   "outputs": [],
   "source": []
  },
  {
   "cell_type": "code",
   "execution_count": null,
   "metadata": {
    "id": "7GBHZKBp_qRJ"
   },
   "outputs": [],
   "source": []
  },
  {
   "cell_type": "code",
   "execution_count": null,
   "metadata": {
    "id": "Y5nBUA-j_qRJ"
   },
   "outputs": [],
   "source": []
  },
  {
   "cell_type": "code",
   "execution_count": null,
   "metadata": {
    "id": "ShcUC-Vm_qRJ"
   },
   "outputs": [],
   "source": []
  },
  {
   "cell_type": "markdown",
   "metadata": {
    "id": "FupfgeJk_qRJ"
   },
   "source": [
    "**Investigating the Bar Coupons**\n",
    "\n",
    "Now, we will lead you through an exploration of just the bar related coupons.  \n",
    "\n",
    "1. Create a new `DataFrame` that contains just the bar coupons.\n"
   ]
  },
  {
   "cell_type": "code",
   "execution_count": null,
   "metadata": {
    "id": "tMBlWuGq_qRJ"
   },
   "outputs": [],
   "source": [
    "Coupon_bar = data_updated[data_updated['coupon'] == 'Bar']"
   ]
  },
  {
   "cell_type": "markdown",
   "metadata": {
    "id": "8ue6uCqf_qRJ"
   },
   "source": [
    "2. What proportion of bar coupons were accepted?\n"
   ]
  },
  {
   "cell_type": "code",
   "execution_count": null,
   "metadata": {
    "id": "hSdte8Mi_qRK"
   },
   "outputs": [],
   "source": [
    "total_bar_coupons = len(Coupon_bar) #Total Size of the dataframe\n",
    "accepted_bar_coupons = Coupon_bar['Y'].sum() #Total count of enteries where Y= 1\n",
    "\n",
    "proportion_bar_coupons_accepted = (accepted_bar_coupons / total_bar_coupons) * 100\n"
   ]
  },
  {
   "cell_type": "markdown",
   "metadata": {
    "id": "85nA_iEi_qRK"
   },
   "source": [
    "3. Compare the acceptance rate between those who went to a bar 3 or fewer times a month to those who went more.\n"
   ]
  },
  {
   "cell_type": "code",
   "execution_count": null,
   "metadata": {
    "id": "LBOrN-XM_qRK"
   },
   "outputs": [],
   "source": [
    "\n",
    "low_bar_visitors = Coupon_bar[Coupon_bar['Bar'].isin(['never', 'less1', '1~3'])] #data set with lower turn around group\n",
    "high_bar_visitors = Coupon_bar[Coupon_bar['Bar'].isin(['4~8', 'gt8'])] # data set with high turn around group\n",
    "\n",
    "\n",
    "low_visitors_acceptance_rate = (low_bar_visitors['Y'].sum() / len(low_bar_visitors)) * 100  #Total count of enteries where Y= 1 \n",
    "high_visitors_acceptance_rate = (high_bar_visitors['Y'].sum() / len(high_bar_visitors)) * 100 #Total count of enteries where Y= 1\n",
    "\n"
   ]
  },
  {
   "cell_type": "markdown",
   "metadata": {
    "id": "RBgcQwH4_qRK"
   },
   "source": [
    "4. Compare the acceptance rate between drivers who go to a bar more than once a month and are over the age of 25 to the all others.  Is there a difference?\n"
   ]
  },
  {
   "cell_type": "code",
   "execution_count": null,
   "metadata": {
    "id": "bf28bbeX_qRK"
   },
   "outputs": [],
   "source": [
    "frequent_drivers_over_25 = Coupon_bar[\n",
    "    (Coupon_bar['Bar'].isin(['4~8', 'gt8', '1~3'])) & \n",
    "    (Coupon_bar['age'].str.extract('(\\d+)').astype(int) > 25).squeeze()\n",
    "]\n",
    "\n",
    "# Filter all other drivers\n",
    "other_drivers = Coupon_bar[~Coupon_bar.index.isin(frequent_drivers_over_25.index)]\n",
    "\n",
    "# Calculate acceptance rates for each group\n",
    "frequent_over_25_acceptance_rate = (frequent_drivers_over_25['Y'].sum() / len(frequent_drivers_over_25)) * 100\n",
    "others_acceptance_rate = (other_drivers['Y'].sum() / len(other_drivers)) * 100\n"
   ]
  },
  {
   "cell_type": "markdown",
   "metadata": {
    "id": "S4RKT4PJ_qRK"
   },
   "source": [
    "5. Use the same process to compare the acceptance rate between drivers who go to bars more than once a month and had passengers that were not a kid and had occupations other than farming, fishing, or forestry.\n"
   ]
  },
  {
   "cell_type": "code",
   "execution_count": null,
   "metadata": {
    "id": "sENaI2Tg_qRK"
   },
   "outputs": [],
   "source": [
    "frequent_bar_drivers_filtered = Coupon_bar[\n",
    "    (Coupon_bar['Bar'].isin(['4~8', 'gt8', '1~3'])) & \n",
    "    (Coupon_bar['passanger'] != \"Kid(s)\") &\n",
    "    (~Coupon_bar['occupation'].str.contains(\"Farming, Fishing, or Forestry\", na=False))\n",
    "]\n",
    "\n",
    "# Filter all other drivers\n",
    "other_drivers_filtered = Coupon_bar[~Coupon_bar.index.isin(frequent_bar_drivers_filtered.index)]\n",
    "\n",
    "# Calculate acceptance rates for each group\n",
    "frequent_filtered_acceptance_rate = (frequent_bar_drivers_filtered['Y'].sum() / len(frequent_bar_drivers_filtered)) * 100\n",
    "others_filtered_acceptance_rate = (other_drivers_filtered['Y'].sum() / len(other_drivers_filtered)) * 100\n",
    "\n",
    "frequent_filtered_acceptance_rate, others_filtered_acceptance_rate"
   ]
  },
  {
   "cell_type": "markdown",
   "metadata": {
    "id": "n2LIUTil_qRK"
   },
   "source": [
    "6. Compare the acceptance rates between those drivers who:\n",
    "\n",
    "- go to bars more than once a month, had passengers that were not a kid, and were not widowed *OR*\n",
    "- go to bars more than once a month and are under the age of 30 *OR*\n",
    "- go to cheap restaurants more than 4 times a month and income is less than 50K.\n",
    "\n"
   ]
  },
  {
   "cell_type": "code",
   "execution_count": null,
   "metadata": {
    "id": "aK_wEzx7_qRK"
   },
   "outputs": [],
   "source": [
    "\n",
    "\n",
    "# 1. Go to bars more than once a month, had passengers not a kid, and were not widowed\n",
    "condition_1 = (\n",
    "    (Coupon_bar['Bar'].isin(['4~8', 'gt8', '1~3'])) &\n",
    "    (Coupon_bar['passanger'] != \"Kid(s)\") &\n",
    "    (Coupon_bar['maritalStatus'] != \"Widowed\")\n",
    ")\n",
    "\n",
    "# 2. Go to bars more than once a month and are under the age of 30\n",
    "condition_2 = (\n",
    "    (Coupon_bar['Bar'].isin(['4~8', 'gt8', '1~3'])) &\n",
    "    (Coupon_bar['age'].str.extract('(\\d+)').astype(int) < 30).squeeze()\n",
    ")\n",
    "\n",
    "# 3. Go to cheap restaurants more than 4 times a month and income is less than 50K\n",
    "condition_3 = (\n",
    "    (Coupon_bar['RestaurantLessThan20'].isin(['4~8', 'gt8'])) &\n",
    "    (Coupon_bar['income'].str.contains('<50K', na=False))\n",
    ")\n",
    "\n",
    "#  OR logic\n",
    "combined_conditions = condition_1 | condition_2 | condition_3\n",
    "\n",
    "# Data set meeting one condition\n",
    "filtered_drivers = Coupon_bar[combined_conditions]\n",
    "\n",
    "# Filter for drivers not meeting the conditions\n",
    "other_drivers = Coupon_bar[~combined_conditions]\n",
    "\n",
    "# Calculate acceptance rates for each group\n",
    "filtered_acceptance_rate = (filtered_drivers['Y'].sum() / len(filtered_drivers)) * 100\n",
    "other_acceptance_rate = (other_drivers['Y'].sum() / len(other_drivers)) * 100\n"
   ]
  },
  {
   "cell_type": "markdown",
   "metadata": {
    "id": "v3fL3QkO_qRK"
   },
   "source": [
    "7.  Based on these observations, what do you hypothesize about drivers who accepted the bar coupons?"
   ]
  },
  {
   "cell_type": "code",
   "execution_count": null,
   "metadata": {
    "id": "Y48naDFh_qRL",
    "slideshow": {
     "slide_type": "slide"
    }
   },
   "outputs": [
    {
     "ename": "SyntaxError",
     "evalue": "invalid character '’' (U+2019) (385018467.py, line 1)",
     "output_type": "error",
     "traceback": [
      "\u001b[1;36m  Cell \u001b[1;32mIn[8], line 1\u001b[1;36m\u001b[0m\n\u001b[1;33m    Drivers who accepted bar coupons are typically younger, socially active, and frequent bar-goers. They are more likely to accept coupons if they don’t have kids as passengers and are influenced by social and budget-conscious habits. Those visiting cheap restaurants often and earning less than 50K also show a higher acceptance rate. This suggests that bar coupons appeal most to individuals whose lifestyle aligns with social outings and cost-saving incentives.\u001b[0m\n\u001b[1;37m                                                                                                                                                       ^\u001b[0m\n\u001b[1;31mSyntaxError\u001b[0m\u001b[1;31m:\u001b[0m invalid character '’' (U+2019)\n"
     ]
    }
   ],
   "source": [
    "#Drivers who accepted bar coupons are typically younger, socially active, and frequent bar-goers. They are more likely to accept coupons if they don’t have kids as passengers and are influenced by social and budget-conscious habits. Those visiting cheap restaurants often and earning less than 50K also show a higher acceptance rate. This suggests that bar coupons appeal most to individuals whose lifestyle aligns with social outings and cost-saving incentives."
   ]
  },
  {
   "cell_type": "markdown",
   "metadata": {
    "id": "r4Hu1zOb_qRL"
   },
   "source": [
    "### Independent Investigation\n",
    "\n",
    "Using the bar coupon example as motivation, you are to explore one of the other coupon groups and try to determine the characteristics of passengers who accept the coupons.  "
   ]
  },
  {
   "cell_type": "code",
   "execution_count": null,
   "metadata": {
    "id": "0c71cQhu_qRL"
   },
   "outputs": [],
   "source": [
    "# Filter for Coffee House coupons \n",
    "Coupon_coffee = data_updated[data_updated['coupon'] == 'Coffee House']\n",
    "\n",
    "\n",
    "# Proportion of Coffee House coupons accepted\n",
    "total_coffee_coupons = len(Coupon_coffee)\n",
    "accepted_coffee_coupons = Coupon_coffee['Y'].sum()\n",
    "proportion_coffee_coupons_accepted = (accepted_coffee_coupons / total_coffee_coupons) * 100\n",
    "\n",
    "\n",
    "# Low vs High Coffee House Visitors' Acceptance Rate\n",
    "low_coffee_visitors = Coupon_coffee[Coupon_coffee['CoffeeHouse'].isin(['never', 'less1', '1~3'])]\n",
    "high_coffee_visitors = Coupon_coffee[Coupon_coffee['CoffeeHouse'].isin(['4~8', 'gt8'])]\n",
    "low_visitors_acceptance_rate = (low_coffee_visitors['Y'].sum() / len(low_coffee_visitors)) * 100\n",
    "high_visitors_acceptance_rate = (high_coffee_visitors['Y'].sum() / len(high_coffee_visitors)) * 100\n",
    "\n",
    "# Drivers over 25 who visit coffee houses frequently\n",
    "frequent_drivers_over_25 = Coupon_coffee[\n",
    "    (Coupon_coffee['CoffeeHouse'].isin(['4~8', 'gt8', '1~3'])) & \n",
    "    (Coupon_coffee['age'].str.extract('(\\d+)').astype(int) > 25).squeeze()\n",
    "]\n",
    "\n",
    "other_drivers = Coupon_coffee[~Coupon_coffee.index.isin(frequent_drivers_over_25.index)]\n",
    "frequent_over_25_acceptance_rate = (frequent_drivers_over_25['Y'].sum() / len(frequent_drivers_over_25)) * 100\n",
    "others_acceptance_rate = (other_drivers['Y'].sum() / len(other_drivers)) * 100\n",
    "\n",
    "\n",
    "# Drivers who visit coffee houses frequently and meet specific conditions\n",
    "frequent_coffee_drivers_filtered = Coupon_coffee[\n",
    "    (Coupon_coffee['CoffeeHouse'].isin(['4~8', 'gt8', '1~3'])) & \n",
    "    (Coupon_coffee['passanger'] != \"Kid(s)\") &\n",
    "    (~Coupon_coffee['occupation'].str.contains(\"Farming, Fishing, or Forestry\", na=False))\n",
    "]\n",
    "\n",
    "other_drivers_filtered = Coupon_coffee[~Coupon_coffee.index.isin(frequent_coffee_drivers_filtered.index)]\n",
    "frequent_filtered_acceptance_rate = (frequent_coffee_drivers_filtered['Y'].sum() / len(frequent_coffee_drivers_filtered)) * 100\n",
    "others_filtered_acceptance_rate = (other_drivers_filtered['Y'].sum() / len(other_drivers_filtered)) * 100\n",
    "\n",
    "\n",
    "# Combined conditions for drivers\n",
    "condition_1 = (\n",
    "    (Coupon_coffee['CoffeeHouse'].isin(['4~8', 'gt8', '1~3'])) &\n",
    "    (Coupon_coffee['passanger'] != \"Kid(s)\") &\n",
    "    (Coupon_coffee['maritalStatus'] != \"Widowed\")\n",
    ")\n",
    "condition_2 = (\n",
    "    (Coupon_coffee['CoffeeHouse'].isin(['4~8', 'gt8', '1~3'])) &\n",
    "    (Coupon_coffee['age'].str.extract('(\\d+)').astype(int) < 30).squeeze()\n",
    ")\n",
    "condition_3 = (\n",
    "    (Coupon_coffee['RestaurantLessThan20'].isin(['4~8', 'gt8'])) &\n",
    "    (Coupon_coffee['income'].str.contains('<50K', na=False))\n",
    ")\n",
    "\n",
    "combined_conditions = condition_1 | condition_2 | condition_3\n",
    "filtered_drivers = Coupon_coffee[combined_conditions]\n",
    "other_drivers = Coupon_coffee[~combined_conditions]\n",
    "filtered_acceptance_rate = (filtered_drivers['Y'].sum() / len(filtered_drivers)) * 100\n",
    "other_acceptance_rate = (other_drivers['Y'].sum() / len(other_drivers)) * 100\n",
    "\n"
   ]
  },
  {
   "cell_type": "code",
   "execution_count": null,
   "metadata": {
    "id": "QEsBkvIN_qRL"
   },
   "outputs": [],
   "source": [
    "#Drivers who accepted Coffee House coupons are typically younger and frequent visitors to coffee shops. They are more likely to accept coupons if they are alone or with friends, and not accompanied by kids. Acceptance rates are higher among those aged 21–26 and individuals with incomes between $12,500 and $50,000. This suggests that Coffee House coupons appeal to socially active, budget-conscious individuals whose lifestyle includes regular coffee shop visits."
   ]
  },
  {
   "cell_type": "code",
   "execution_count": null,
   "metadata": {
    "id": "fTC2WGE3_qRL"
   },
   "outputs": [],
   "source": []
  },
  {
   "cell_type": "code",
   "execution_count": null,
   "metadata": {
    "id": "RrqUWn7d_qRL"
   },
   "outputs": [],
   "source": []
  },
  {
   "cell_type": "code",
   "execution_count": null,
   "metadata": {
    "id": "_oykf8YP_qRL"
   },
   "outputs": [],
   "source": []
  }
 ],
 "metadata": {
  "colab": {
   "provenance": []
  },
  "kernelspec": {
   "display_name": "myenv",
   "language": "python",
   "name": "python3"
  },
  "language_info": {
   "codemirror_mode": {
    "name": "ipython",
    "version": 3
   },
   "file_extension": ".py",
   "mimetype": "text/x-python",
   "name": "python",
   "nbconvert_exporter": "python",
   "pygments_lexer": "ipython3",
   "version": "3.12.8"
  }
 },
 "nbformat": 4,
 "nbformat_minor": 0
}
